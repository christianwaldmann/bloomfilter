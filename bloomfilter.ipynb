{
 "cells": [
  {
   "cell_type": "code",
   "execution_count": 1,
   "id": "3e026822-0baf-4fb9-9cd3-c93ff9d3dd3e",
   "metadata": {
    "tags": []
   },
   "outputs": [],
   "source": [
    "import bitarray\n",
    "from hashlib import sha256\n",
    "from functools import partial\n",
    "import random\n",
    "import math\n",
    "import string\n",
    "\n",
    "random.seed(23)"
   ]
  },
  {
   "cell_type": "markdown",
   "id": "f2e4d542-f972-45f6-a295-bddb4383fdbc",
   "metadata": {},
   "source": [
    "# Bloom Filter\n",
    "\n",
    "- you can ..\n",
    "    - add items\n",
    "    - check if a item is maybe contained in the set (in other words: it can answer the question \"Is this item contained?\" only with \"maybe\" or \"no\")\n",
    "- you can not ..\n",
    "    - check which items are in the set\n",
    "- main advantage: constant space\n",
    "- parameter\n",
    "    - bit count\n",
    "    - hash function count\n",
    "- use cases\n",
    "    - pre-cache for browser -> to check if browser cache contains the item, so you only check if it's likely in the cache (slow operation because of hard drive)\n",
    "    - pre-cache for db -> to check if a row that contains the value the users asks for exist, and only if the answer is maybe, evaluate the query (so this speeds up querys that would otherwise return an empty set)\n",
    "    - track posts shown to user -> so you know which post the user definitely hasn't seen yet, and you can show new posts"
   ]
  },
  {
   "cell_type": "markdown",
   "id": "3b9aab93-3233-4862-99c9-abaf1b7febbc",
   "metadata": {},
   "source": [
    "# Implementation of a simple Bloom Filter"
   ]
  },
  {
   "cell_type": "code",
   "execution_count": 2,
   "id": "dd2a381f-63b5-43fa-869c-63cc222d2c32",
   "metadata": {
    "tags": []
   },
   "outputs": [],
   "source": [
    "class Bloomfilter:\n",
    "    \n",
    "    def __init__(self, bit_count, hashfunction_count):\n",
    "        self.bit_count = bit_count\n",
    "        self.hashfunction_count = hashfunction_count\n",
    "        self.bits = [0] * self.bit_count\n",
    "        self.salts = [str(x) for x in range(self.hashfunction_count)]\n",
    "        self.hash_functions = [partial(self._base_hash_function, salt=salt) for salt in self.salts]\n",
    "        \n",
    "    def _base_hash_function(self, item, salt):\n",
    "        return int(sha256(item.encode() + salt.encode()).hexdigest(), 16) % self.bit_count\n",
    "    \n",
    "    def add(self, item):\n",
    "        for hash_function in self.hash_functions:\n",
    "            index = hash_function(item)\n",
    "            self.bits[index] = 1\n",
    "    \n",
    "    def is_maybe_present(self, item):\n",
    "        for hash_function in self.hash_functions:\n",
    "            index = hash_function(item)\n",
    "            if self.bits[index] == 0:\n",
    "                return False\n",
    "        return True"
   ]
  },
  {
   "cell_type": "markdown",
   "id": "8c3c505d-70de-42e7-95ad-3c5bceaea33e",
   "metadata": {},
   "source": [
    "# Test the implementation\n",
    "\n",
    "#### Create Bloom Filter with 5 bits and 2 hash functions"
   ]
  },
  {
   "cell_type": "code",
   "execution_count": 3,
   "id": "ae121061-f50d-444e-bd3f-29a0a47b667d",
   "metadata": {
    "tags": []
   },
   "outputs": [],
   "source": [
    "bloom = Bloomfilter(5, 2)"
   ]
  },
  {
   "cell_type": "markdown",
   "id": "b5681987-0918-4e53-9e4f-1b73b59c7586",
   "metadata": {},
   "source": [
    "#### Add the item \"abc\""
   ]
  },
  {
   "cell_type": "code",
   "execution_count": 4,
   "id": "c791e04d-ce2e-492d-9522-abb668aad0cf",
   "metadata": {
    "tags": []
   },
   "outputs": [],
   "source": [
    "bloom.add(\"abc\")"
   ]
  },
  {
   "cell_type": "markdown",
   "id": "7693ac9e-7f77-4160-864a-07ecc0485631",
   "metadata": {},
   "source": [
    "#### Verify that the set says that \"abc\" is maybe present"
   ]
  },
  {
   "cell_type": "code",
   "execution_count": 5,
   "id": "eb702bc4-e73d-40d8-96df-ff3a5c712b11",
   "metadata": {
    "tags": []
   },
   "outputs": [
    {
     "data": {
      "text/plain": [
       "True"
      ]
     },
     "execution_count": 5,
     "metadata": {},
     "output_type": "execute_result"
    }
   ],
   "source": [
    "bloom.is_maybe_present(\"abc\")"
   ]
  },
  {
   "cell_type": "markdown",
   "id": "61fb6541-5225-41d3-a459-505f4f3b113b",
   "metadata": {
    "tags": []
   },
   "source": [
    "#### Check what the set says about other items"
   ]
  },
  {
   "cell_type": "code",
   "execution_count": 6,
   "id": "e2bafdbb-c427-488a-8c10-9996cd4528f7",
   "metadata": {
    "tags": []
   },
   "outputs": [
    {
     "data": {
      "text/plain": [
       "False"
      ]
     },
     "execution_count": 6,
     "metadata": {},
     "output_type": "execute_result"
    }
   ],
   "source": [
    "bloom.is_maybe_present(\"xyz\")"
   ]
  },
  {
   "cell_type": "code",
   "execution_count": 7,
   "id": "1aa316e1-ead4-4256-a21c-f90eedc7c0b1",
   "metadata": {
    "tags": []
   },
   "outputs": [
    {
     "name": "stdout",
     "output_type": "stream",
     "text": [
      "Set perhaps contains \"a\": False\n",
      "Set perhaps contains \"b\": False\n",
      "Set perhaps contains \"c\": False\n",
      "Set perhaps contains \"d\": False\n",
      "Set perhaps contains \"e\": True\n",
      "Set perhaps contains \"f\": False\n",
      "Set perhaps contains \"g\": False\n",
      "Set perhaps contains \"h\": True\n",
      "Set perhaps contains \"i\": False\n",
      "Set perhaps contains \"j\": False\n",
      "Set perhaps contains \"k\": False\n",
      "Set perhaps contains \"l\": False\n",
      "Set perhaps contains \"m\": False\n",
      "Set perhaps contains \"n\": False\n",
      "Set perhaps contains \"o\": False\n",
      "Set perhaps contains \"p\": True\n",
      "Set perhaps contains \"q\": False\n",
      "Set perhaps contains \"r\": True\n",
      "Set perhaps contains \"s\": False\n",
      "Set perhaps contains \"t\": False\n",
      "Set perhaps contains \"u\": False\n",
      "Set perhaps contains \"v\": True\n",
      "Set perhaps contains \"w\": False\n",
      "Set perhaps contains \"x\": False\n",
      "Set perhaps contains \"y\": False\n",
      "Set perhaps contains \"z\": False\n"
     ]
    }
   ],
   "source": [
    "chars = \"abcdefghijklmnopqrstuvwxyz\"\n",
    "\n",
    "for c in chars:\n",
    "    print(f\"Set perhaps contains \\\"{c}\\\": {bloom.is_maybe_present(c)}\")"
   ]
  },
  {
   "cell_type": "markdown",
   "id": "698a40e2-4810-4998-917b-937f92c3f444",
   "metadata": {},
   "source": [
    "# How to set the parameters\n",
    "\n",
    "- $\\textrm{bit count} = - \\cfrac{n \\cdot \\ln \\epsilon}{(\\ln 2)^2}$\n",
    "- $\\textrm{hashfunction count} = - \\log_2 \\epsilon$\n",
    "- with:\n",
    "    - $n$ = anticipated number of unique items\n",
    "    - $\\epsilon$ = desired FP-rate"
   ]
  },
  {
   "cell_type": "code",
   "execution_count": 8,
   "id": "96da77e6-1cdb-43d6-aeb6-4a7afae72494",
   "metadata": {
    "tags": []
   },
   "outputs": [],
   "source": [
    "def estimate_bit_count(expected_unique_item_count, desired_fp_rate):\n",
    "    return round(- (expected_unique_item_count * math.log(desired_fp_rate)) / (math.log(2)) ** 2)\n",
    "\n",
    "\n",
    "def estimate_hashfunction_count(desired_fp_rate):\n",
    "    return round(- math.log2(desired_fp_rate))"
   ]
  },
  {
   "cell_type": "markdown",
   "id": "6e89d768-5086-41c3-8396-d3e9f4d4b4ba",
   "metadata": {},
   "source": [
    "### Example\n",
    "\n",
    "Assuming we expect to insert 5000 unique items ($n = 5000)$ and aim for a FP-rate of 1% ($\\epsilon = 0.01$)."
   ]
  },
  {
   "cell_type": "code",
   "execution_count": 9,
   "id": "e6453fe1-fd97-4d62-809b-d84c110500fb",
   "metadata": {
    "tags": []
   },
   "outputs": [
    {
     "data": {
      "text/plain": [
       "(47925, 7)"
      ]
     },
     "execution_count": 9,
     "metadata": {},
     "output_type": "execute_result"
    }
   ],
   "source": [
    "expected_unique_item_count = 5000\n",
    "desired_fp_rate = 0.01\n",
    "\n",
    "estimate_bit_count(expected_unique_item_count, desired_fp_rate), estimate_hashfunction_count(desired_fp_rate)"
   ]
  },
  {
   "cell_type": "markdown",
   "id": "04130af8-8cd5-4b72-90b9-7a6a2d1af8da",
   "metadata": {},
   "source": [
    "### Verify that this configuration results in the desired FP rate for a test run"
   ]
  },
  {
   "cell_type": "code",
   "execution_count": 12,
   "id": "cc05a289-1cde-4527-b9e0-f4dce5869e10",
   "metadata": {
    "tags": []
   },
   "outputs": [
    {
     "data": {
      "text/plain": [
       "0.00975"
      ]
     },
     "execution_count": 12,
     "metadata": {},
     "output_type": "execute_result"
    }
   ],
   "source": [
    "bloom = Bloomfilter(47925, 7)\n",
    "\n",
    "\n",
    "for _ in range(5000):\n",
    "    random_string = \"\".join(random.choices(string.ascii_lowercase, k=20))\n",
    "    bloom.add(random_string)\n",
    "    \n",
    "    \n",
    "def false_positive_rate(bloomfilter, test_size):\n",
    "    fp_count = 0\n",
    "    for _ in range(test_size):\n",
    "        random_string = \"\".join(random.choices(string.ascii_lowercase, k=20))\n",
    "        if bloom.is_maybe_present(random_string):\n",
    "            fp_count += 1\n",
    "    fp_rate = fp_count / test_size\n",
    "    return fp_rate\n",
    "\n",
    "\n",
    "fp_rate = false_positive_rate(bloom, test_size=100000)\n",
    "fp_rate"
   ]
  },
  {
   "cell_type": "markdown",
   "id": "076d6b3e-1cc0-4b97-91bc-0080a89bc829",
   "metadata": {},
   "source": [
    "### What happens if we underestimated the number of unique items and add double the estimated amount?"
   ]
  },
  {
   "cell_type": "code",
   "execution_count": 13,
   "id": "ec877d02-ba0e-4f1d-bf59-c87bb2b47443",
   "metadata": {
    "tags": []
   },
   "outputs": [
    {
     "data": {
      "text/plain": [
       "0.15772"
      ]
     },
     "execution_count": 13,
     "metadata": {},
     "output_type": "execute_result"
    }
   ],
   "source": [
    "bloom = Bloomfilter(47925, 7)\n",
    "\n",
    "\n",
    "for _ in range(10000):\n",
    "    random_string = \"\".join(random.choices(string.ascii_lowercase, k=20))\n",
    "    bloom.add(random_string)\n",
    "    \n",
    "    \n",
    "fp_rate = false_positive_rate(bloom, test_size=100000)\n",
    "fp_rate"
   ]
  },
  {
   "cell_type": "markdown",
   "id": "0419c7d4-695d-442b-875b-670f63277fd4",
   "metadata": {},
   "source": [
    "-> so instead of a fp error rate of 1%, we get a fp error rate of 15%!"
   ]
  },
  {
   "cell_type": "code",
   "execution_count": null,
   "id": "f409183a-bdcf-4995-94be-834b55e20a9b",
   "metadata": {},
   "outputs": [],
   "source": []
  }
 ],
 "metadata": {
  "kernelspec": {
   "display_name": "Python 3 (ipykernel)",
   "language": "python",
   "name": "python3"
  },
  "language_info": {
   "codemirror_mode": {
    "name": "ipython",
    "version": 3
   },
   "file_extension": ".py",
   "mimetype": "text/x-python",
   "name": "python",
   "nbconvert_exporter": "python",
   "pygments_lexer": "ipython3",
   "version": "3.10.10"
  }
 },
 "nbformat": 4,
 "nbformat_minor": 5
}
